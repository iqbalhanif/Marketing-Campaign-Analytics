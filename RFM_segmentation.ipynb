{
 "cells": [
  {
   "cell_type": "markdown",
   "metadata": {},
   "source": [
    "# RFM SEegmentation"
   ]
  },
  {
   "cell_type": "markdown",
   "metadata": {},
   "source": [
    "# 1. LOAD DATA"
   ]
  },
  {
   "cell_type": "markdown",
   "metadata": {},
   "source": [
    "1. Load Data\n",
    "2. Cek Data Frame"
   ]
  },
  {
   "cell_type": "markdown",
   "metadata": {},
   "source": [
    "## 1.1 Load Data CSV to Pandas Dataframe"
   ]
  },
  {
   "cell_type": "code",
   "execution_count": 1,
   "metadata": {},
   "outputs": [],
   "source": [
    "%load_ext autotime"
   ]
  },
  {
   "cell_type": "code",
   "execution_count": 2,
   "metadata": {},
   "outputs": [
    {
     "name": "stdout",
     "output_type": "stream",
     "text": [
      "time: 723 ms\n"
     ]
    }
   ],
   "source": [
    "import pandas as pd\n",
    "\n",
    "pd.set_option('display.max_columns', 200)\n",
    "pd.set_option('display.max_rows', 200)"
   ]
  },
  {
   "cell_type": "code",
   "execution_count": 3,
   "metadata": {},
   "outputs": [
    {
     "data": {
      "text/html": [
       "<div>\n",
       "<style scoped>\n",
       "    .dataframe tbody tr th:only-of-type {\n",
       "        vertical-align: middle;\n",
       "    }\n",
       "\n",
       "    .dataframe tbody tr th {\n",
       "        vertical-align: top;\n",
       "    }\n",
       "\n",
       "    .dataframe thead th {\n",
       "        text-align: right;\n",
       "    }\n",
       "</style>\n",
       "<table border=\"1\" class=\"dataframe\">\n",
       "  <thead>\n",
       "    <tr style=\"text-align: right;\">\n",
       "      <th></th>\n",
       "      <th>frequency_CONVERTED</th>\n",
       "      <th>monetary_CONVERTED</th>\n",
       "      <th>recency_CONVERTED</th>\n",
       "      <th>frequency</th>\n",
       "      <th>monetary</th>\n",
       "      <th>recency</th>\n",
       "      <th>member_id</th>\n",
       "      <th>gender</th>\n",
       "      <th>visit_last_1mo</th>\n",
       "      <th>visit_last_2mo</th>\n",
       "      <th>visit_last_3mo</th>\n",
       "      <th>spending_last_1mo</th>\n",
       "      <th>spending_last_2mo</th>\n",
       "      <th>spending_last_3mo</th>\n",
       "      <th>age</th>\n",
       "      <th>monthly_income</th>\n",
       "      <th>marital_status</th>\n",
       "      <th>payment_channel</th>\n",
       "      <th>buy_groceries</th>\n",
       "      <th>buy_toiletries</th>\n",
       "      <th>buy_food</th>\n",
       "      <th>buy_electronic</th>\n",
       "      <th>buy_clothes</th>\n",
       "      <th>buy_home_appliances</th>\n",
       "      <th>recency_last_visit</th>\n",
       "      <th>response</th>\n",
       "      <th>is_single</th>\n",
       "      <th>is_married</th>\n",
       "      <th>is_cash</th>\n",
       "      <th>is_debit</th>\n",
       "      <th>is_credit</th>\n",
       "      <th>is_male</th>\n",
       "      <th>is_female</th>\n",
       "    </tr>\n",
       "  </thead>\n",
       "  <tbody>\n",
       "    <tr>\n",
       "      <th>0</th>\n",
       "      <td>16</td>\n",
       "      <td>535238</td>\n",
       "      <td>27</td>\n",
       "      <td>16</td>\n",
       "      <td>535238</td>\n",
       "      <td>27</td>\n",
       "      <td>237398</td>\n",
       "      <td>Female</td>\n",
       "      <td>4</td>\n",
       "      <td>6</td>\n",
       "      <td>6</td>\n",
       "      <td>207164</td>\n",
       "      <td>170482</td>\n",
       "      <td>157592</td>\n",
       "      <td>25</td>\n",
       "      <td>3172700</td>\n",
       "      <td>Married</td>\n",
       "      <td>Cash</td>\n",
       "      <td>1</td>\n",
       "      <td>1</td>\n",
       "      <td>1</td>\n",
       "      <td>0</td>\n",
       "      <td>0</td>\n",
       "      <td>1</td>\n",
       "      <td>27</td>\n",
       "      <td>0</td>\n",
       "      <td>0</td>\n",
       "      <td>1</td>\n",
       "      <td>1</td>\n",
       "      <td>0</td>\n",
       "      <td>0</td>\n",
       "      <td>0</td>\n",
       "      <td>1</td>\n",
       "    </tr>\n",
       "    <tr>\n",
       "      <th>1</th>\n",
       "      <td>14</td>\n",
       "      <td>2473473</td>\n",
       "      <td>5</td>\n",
       "      <td>14</td>\n",
       "      <td>2473473</td>\n",
       "      <td>5</td>\n",
       "      <td>502009</td>\n",
       "      <td>Female</td>\n",
       "      <td>6</td>\n",
       "      <td>6</td>\n",
       "      <td>2</td>\n",
       "      <td>792577</td>\n",
       "      <td>821678</td>\n",
       "      <td>859218</td>\n",
       "      <td>32</td>\n",
       "      <td>4141600</td>\n",
       "      <td>Married</td>\n",
       "      <td>Cash</td>\n",
       "      <td>0</td>\n",
       "      <td>1</td>\n",
       "      <td>0</td>\n",
       "      <td>0</td>\n",
       "      <td>0</td>\n",
       "      <td>1</td>\n",
       "      <td>5</td>\n",
       "      <td>0</td>\n",
       "      <td>0</td>\n",
       "      <td>1</td>\n",
       "      <td>1</td>\n",
       "      <td>0</td>\n",
       "      <td>0</td>\n",
       "      <td>0</td>\n",
       "      <td>1</td>\n",
       "    </tr>\n",
       "    <tr>\n",
       "      <th>2</th>\n",
       "      <td>8</td>\n",
       "      <td>3114644</td>\n",
       "      <td>3</td>\n",
       "      <td>8</td>\n",
       "      <td>3114644</td>\n",
       "      <td>3</td>\n",
       "      <td>11841</td>\n",
       "      <td>Female</td>\n",
       "      <td>3</td>\n",
       "      <td>3</td>\n",
       "      <td>2</td>\n",
       "      <td>1019203</td>\n",
       "      <td>1058981</td>\n",
       "      <td>1036460</td>\n",
       "      <td>24</td>\n",
       "      <td>5292900</td>\n",
       "      <td>Single</td>\n",
       "      <td>Debit Card</td>\n",
       "      <td>0</td>\n",
       "      <td>1</td>\n",
       "      <td>1</td>\n",
       "      <td>1</td>\n",
       "      <td>0</td>\n",
       "      <td>1</td>\n",
       "      <td>3</td>\n",
       "      <td>0</td>\n",
       "      <td>1</td>\n",
       "      <td>0</td>\n",
       "      <td>0</td>\n",
       "      <td>1</td>\n",
       "      <td>0</td>\n",
       "      <td>0</td>\n",
       "      <td>1</td>\n",
       "    </tr>\n",
       "    <tr>\n",
       "      <th>3</th>\n",
       "      <td>6</td>\n",
       "      <td>818743</td>\n",
       "      <td>27</td>\n",
       "      <td>6</td>\n",
       "      <td>818743</td>\n",
       "      <td>27</td>\n",
       "      <td>645389</td>\n",
       "      <td>Female</td>\n",
       "      <td>3</td>\n",
       "      <td>2</td>\n",
       "      <td>1</td>\n",
       "      <td>260765</td>\n",
       "      <td>281803</td>\n",
       "      <td>276175</td>\n",
       "      <td>28</td>\n",
       "      <td>2606600</td>\n",
       "      <td>Single</td>\n",
       "      <td>Credit Card</td>\n",
       "      <td>0</td>\n",
       "      <td>0</td>\n",
       "      <td>1</td>\n",
       "      <td>0</td>\n",
       "      <td>0</td>\n",
       "      <td>0</td>\n",
       "      <td>27</td>\n",
       "      <td>0</td>\n",
       "      <td>1</td>\n",
       "      <td>0</td>\n",
       "      <td>0</td>\n",
       "      <td>0</td>\n",
       "      <td>1</td>\n",
       "      <td>0</td>\n",
       "      <td>1</td>\n",
       "    </tr>\n",
       "    <tr>\n",
       "      <th>4</th>\n",
       "      <td>10</td>\n",
       "      <td>2670700</td>\n",
       "      <td>1</td>\n",
       "      <td>10</td>\n",
       "      <td>2670700</td>\n",
       "      <td>1</td>\n",
       "      <td>225416</td>\n",
       "      <td>Female</td>\n",
       "      <td>3</td>\n",
       "      <td>4</td>\n",
       "      <td>3</td>\n",
       "      <td>956641</td>\n",
       "      <td>899804</td>\n",
       "      <td>814255</td>\n",
       "      <td>27</td>\n",
       "      <td>4520100</td>\n",
       "      <td>Single</td>\n",
       "      <td>Debit Card</td>\n",
       "      <td>0</td>\n",
       "      <td>1</td>\n",
       "      <td>1</td>\n",
       "      <td>0</td>\n",
       "      <td>0</td>\n",
       "      <td>1</td>\n",
       "      <td>1</td>\n",
       "      <td>0</td>\n",
       "      <td>1</td>\n",
       "      <td>0</td>\n",
       "      <td>0</td>\n",
       "      <td>1</td>\n",
       "      <td>0</td>\n",
       "      <td>0</td>\n",
       "      <td>1</td>\n",
       "    </tr>\n",
       "  </tbody>\n",
       "</table>\n",
       "</div>"
      ],
      "text/plain": [
       "   frequency_CONVERTED  monetary_CONVERTED  recency_CONVERTED  frequency  \\\n",
       "0                   16              535238                 27         16   \n",
       "1                   14             2473473                  5         14   \n",
       "2                    8             3114644                  3          8   \n",
       "3                    6              818743                 27          6   \n",
       "4                   10             2670700                  1         10   \n",
       "\n",
       "   monetary  recency  member_id  gender  visit_last_1mo  visit_last_2mo  \\\n",
       "0    535238       27     237398  Female               4               6   \n",
       "1   2473473        5     502009  Female               6               6   \n",
       "2   3114644        3      11841  Female               3               3   \n",
       "3    818743       27     645389  Female               3               2   \n",
       "4   2670700        1     225416  Female               3               4   \n",
       "\n",
       "   visit_last_3mo  spending_last_1mo  spending_last_2mo  spending_last_3mo  \\\n",
       "0               6             207164             170482             157592   \n",
       "1               2             792577             821678             859218   \n",
       "2               2            1019203            1058981            1036460   \n",
       "3               1             260765             281803             276175   \n",
       "4               3             956641             899804             814255   \n",
       "\n",
       "   age  monthly_income marital_status payment_channel  buy_groceries  \\\n",
       "0   25         3172700        Married            Cash              1   \n",
       "1   32         4141600        Married            Cash              0   \n",
       "2   24         5292900         Single      Debit Card              0   \n",
       "3   28         2606600         Single     Credit Card              0   \n",
       "4   27         4520100         Single      Debit Card              0   \n",
       "\n",
       "   buy_toiletries  buy_food  buy_electronic  buy_clothes  buy_home_appliances  \\\n",
       "0               1         1               0            0                    1   \n",
       "1               1         0               0            0                    1   \n",
       "2               1         1               1            0                    1   \n",
       "3               0         1               0            0                    0   \n",
       "4               1         1               0            0                    1   \n",
       "\n",
       "   recency_last_visit  response  is_single  is_married  is_cash  is_debit  \\\n",
       "0                  27         0          0           1        1         0   \n",
       "1                   5         0          0           1        1         0   \n",
       "2                   3         0          1           0        0         1   \n",
       "3                  27         0          1           0        0         0   \n",
       "4                   1         0          1           0        0         1   \n",
       "\n",
       "   is_credit  is_male  is_female  \n",
       "0          0        0          1  \n",
       "1          0        0          1  \n",
       "2          0        0          1  \n",
       "3          1        0          1  \n",
       "4          0        0          1  "
      ]
     },
     "execution_count": 3,
     "metadata": {},
     "output_type": "execute_result"
    },
    {
     "name": "stdout",
     "output_type": "stream",
     "text": [
      "time: 110 ms\n"
     ]
    }
   ],
   "source": [
    "import pandas as pd\n",
    "\n",
    "df = pd.read_csv('table_RESPONSE_RETAIL_V2_NEW.csv')\n",
    "df.head()"
   ]
  },
  {
   "cell_type": "markdown",
   "metadata": {},
   "source": [
    "## 1.2 Cek Dataframe"
   ]
  },
  {
   "cell_type": "code",
   "execution_count": 4,
   "metadata": {},
   "outputs": [
    {
     "data": {
      "text/plain": [
       "(5000, 33)"
      ]
     },
     "execution_count": 4,
     "metadata": {},
     "output_type": "execute_result"
    },
    {
     "name": "stdout",
     "output_type": "stream",
     "text": [
      "time: 3.34 ms\n"
     ]
    }
   ],
   "source": [
    "df.shape"
   ]
  },
  {
   "cell_type": "code",
   "execution_count": 5,
   "metadata": {},
   "outputs": [
    {
     "data": {
      "text/plain": [
       "frequency_CONVERTED     int64\n",
       "monetary_CONVERTED      int64\n",
       "recency_CONVERTED       int64\n",
       "frequency               int64\n",
       "monetary                int64\n",
       "recency                 int64\n",
       "member_id               int64\n",
       "gender                 object\n",
       "visit_last_1mo          int64\n",
       "visit_last_2mo          int64\n",
       "visit_last_3mo          int64\n",
       "spending_last_1mo       int64\n",
       "spending_last_2mo       int64\n",
       "spending_last_3mo       int64\n",
       "age                     int64\n",
       "monthly_income          int64\n",
       "marital_status         object\n",
       "payment_channel        object\n",
       "buy_groceries           int64\n",
       "buy_toiletries          int64\n",
       "buy_food                int64\n",
       "buy_electronic          int64\n",
       "buy_clothes             int64\n",
       "buy_home_appliances     int64\n",
       "recency_last_visit      int64\n",
       "response                int64\n",
       "is_single               int64\n",
       "is_married              int64\n",
       "is_cash                 int64\n",
       "is_debit                int64\n",
       "is_credit               int64\n",
       "is_male                 int64\n",
       "is_female               int64\n",
       "dtype: object"
      ]
     },
     "execution_count": 5,
     "metadata": {},
     "output_type": "execute_result"
    },
    {
     "name": "stdout",
     "output_type": "stream",
     "text": [
      "time: 7.65 ms\n"
     ]
    }
   ],
   "source": [
    "df.dtypes"
   ]
  },
  {
   "cell_type": "code",
   "execution_count": 6,
   "metadata": {},
   "outputs": [
    {
     "data": {
      "text/html": [
       "<div>\n",
       "<style scoped>\n",
       "    .dataframe tbody tr th:only-of-type {\n",
       "        vertical-align: middle;\n",
       "    }\n",
       "\n",
       "    .dataframe tbody tr th {\n",
       "        vertical-align: top;\n",
       "    }\n",
       "\n",
       "    .dataframe thead th {\n",
       "        text-align: right;\n",
       "    }\n",
       "</style>\n",
       "<table border=\"1\" class=\"dataframe\">\n",
       "  <thead>\n",
       "    <tr style=\"text-align: right;\">\n",
       "      <th></th>\n",
       "      <th>frequency_CONVERTED</th>\n",
       "      <th>monetary_CONVERTED</th>\n",
       "      <th>recency_CONVERTED</th>\n",
       "      <th>frequency</th>\n",
       "      <th>monetary</th>\n",
       "      <th>recency</th>\n",
       "      <th>member_id</th>\n",
       "      <th>visit_last_1mo</th>\n",
       "      <th>visit_last_2mo</th>\n",
       "      <th>visit_last_3mo</th>\n",
       "      <th>spending_last_1mo</th>\n",
       "      <th>spending_last_2mo</th>\n",
       "      <th>spending_last_3mo</th>\n",
       "      <th>age</th>\n",
       "      <th>monthly_income</th>\n",
       "      <th>buy_groceries</th>\n",
       "      <th>buy_toiletries</th>\n",
       "      <th>buy_food</th>\n",
       "      <th>buy_electronic</th>\n",
       "      <th>buy_clothes</th>\n",
       "      <th>buy_home_appliances</th>\n",
       "      <th>recency_last_visit</th>\n",
       "      <th>response</th>\n",
       "      <th>is_single</th>\n",
       "      <th>is_married</th>\n",
       "      <th>is_cash</th>\n",
       "      <th>is_debit</th>\n",
       "      <th>is_credit</th>\n",
       "      <th>is_male</th>\n",
       "      <th>is_female</th>\n",
       "    </tr>\n",
       "  </thead>\n",
       "  <tbody>\n",
       "    <tr>\n",
       "      <th>count</th>\n",
       "      <td>5000.000000</td>\n",
       "      <td>5.000000e+03</td>\n",
       "      <td>5000.000000</td>\n",
       "      <td>5000.000000</td>\n",
       "      <td>5.000000e+03</td>\n",
       "      <td>5000.000000</td>\n",
       "      <td>5000.000000</td>\n",
       "      <td>5000.000000</td>\n",
       "      <td>5000.000000</td>\n",
       "      <td>5000.000000</td>\n",
       "      <td>5.000000e+03</td>\n",
       "      <td>5.000000e+03</td>\n",
       "      <td>5.000000e+03</td>\n",
       "      <td>5000.000000</td>\n",
       "      <td>5.000000e+03</td>\n",
       "      <td>5000.000000</td>\n",
       "      <td>5000.000000</td>\n",
       "      <td>5000.000000</td>\n",
       "      <td>5000.000000</td>\n",
       "      <td>5000.000000</td>\n",
       "      <td>5000.000000</td>\n",
       "      <td>5000.000000</td>\n",
       "      <td>5000.000000</td>\n",
       "      <td>5000.000000</td>\n",
       "      <td>5000.000000</td>\n",
       "      <td>5000.000000</td>\n",
       "      <td>5000.00000</td>\n",
       "      <td>5000.000000</td>\n",
       "      <td>5000.000000</td>\n",
       "      <td>5000.000000</td>\n",
       "    </tr>\n",
       "    <tr>\n",
       "      <th>mean</th>\n",
       "      <td>10.277200</td>\n",
       "      <td>1.351763e+06</td>\n",
       "      <td>16.101400</td>\n",
       "      <td>10.277200</td>\n",
       "      <td>1.351763e+06</td>\n",
       "      <td>16.101400</td>\n",
       "      <td>491626.836600</td>\n",
       "      <td>3.036200</td>\n",
       "      <td>3.737200</td>\n",
       "      <td>3.503800</td>\n",
       "      <td>4.523516e+05</td>\n",
       "      <td>4.506261e+05</td>\n",
       "      <td>4.487855e+05</td>\n",
       "      <td>29.580000</td>\n",
       "      <td>5.304118e+06</td>\n",
       "      <td>0.189600</td>\n",
       "      <td>0.741200</td>\n",
       "      <td>0.893400</td>\n",
       "      <td>0.079400</td>\n",
       "      <td>0.096000</td>\n",
       "      <td>0.243000</td>\n",
       "      <td>16.101400</td>\n",
       "      <td>0.431800</td>\n",
       "      <td>0.329800</td>\n",
       "      <td>0.670200</td>\n",
       "      <td>0.423600</td>\n",
       "      <td>0.26640</td>\n",
       "      <td>0.310000</td>\n",
       "      <td>0.400400</td>\n",
       "      <td>0.599600</td>\n",
       "    </tr>\n",
       "    <tr>\n",
       "      <th>std</th>\n",
       "      <td>5.112845</td>\n",
       "      <td>7.711333e+05</td>\n",
       "      <td>11.511751</td>\n",
       "      <td>5.112845</td>\n",
       "      <td>7.711333e+05</td>\n",
       "      <td>11.511751</td>\n",
       "      <td>288619.861793</td>\n",
       "      <td>1.759065</td>\n",
       "      <td>2.375387</td>\n",
       "      <td>2.195028</td>\n",
       "      <td>2.659213e+05</td>\n",
       "      <td>2.756227e+05</td>\n",
       "      <td>2.762052e+05</td>\n",
       "      <td>5.531629</td>\n",
       "      <td>2.291426e+06</td>\n",
       "      <td>0.392024</td>\n",
       "      <td>0.438019</td>\n",
       "      <td>0.308635</td>\n",
       "      <td>0.270389</td>\n",
       "      <td>0.294621</td>\n",
       "      <td>0.428938</td>\n",
       "      <td>11.511751</td>\n",
       "      <td>0.495376</td>\n",
       "      <td>0.470187</td>\n",
       "      <td>0.470187</td>\n",
       "      <td>0.494178</td>\n",
       "      <td>0.44212</td>\n",
       "      <td>0.462539</td>\n",
       "      <td>0.490028</td>\n",
       "      <td>0.490028</td>\n",
       "    </tr>\n",
       "    <tr>\n",
       "      <th>min</th>\n",
       "      <td>0.000000</td>\n",
       "      <td>0.000000e+00</td>\n",
       "      <td>0.000000</td>\n",
       "      <td>0.000000</td>\n",
       "      <td>0.000000e+00</td>\n",
       "      <td>0.000000</td>\n",
       "      <td>182.000000</td>\n",
       "      <td>0.000000</td>\n",
       "      <td>0.000000</td>\n",
       "      <td>0.000000</td>\n",
       "      <td>0.000000e+00</td>\n",
       "      <td>0.000000e+00</td>\n",
       "      <td>0.000000e+00</td>\n",
       "      <td>18.000000</td>\n",
       "      <td>5.967000e+05</td>\n",
       "      <td>0.000000</td>\n",
       "      <td>0.000000</td>\n",
       "      <td>0.000000</td>\n",
       "      <td>0.000000</td>\n",
       "      <td>0.000000</td>\n",
       "      <td>0.000000</td>\n",
       "      <td>0.000000</td>\n",
       "      <td>0.000000</td>\n",
       "      <td>0.000000</td>\n",
       "      <td>0.000000</td>\n",
       "      <td>0.000000</td>\n",
       "      <td>0.00000</td>\n",
       "      <td>0.000000</td>\n",
       "      <td>0.000000</td>\n",
       "      <td>0.000000</td>\n",
       "    </tr>\n",
       "    <tr>\n",
       "      <th>25%</th>\n",
       "      <td>6.000000</td>\n",
       "      <td>7.933015e+05</td>\n",
       "      <td>7.000000</td>\n",
       "      <td>6.000000</td>\n",
       "      <td>7.933015e+05</td>\n",
       "      <td>7.000000</td>\n",
       "      <td>240132.500000</td>\n",
       "      <td>2.000000</td>\n",
       "      <td>2.000000</td>\n",
       "      <td>2.000000</td>\n",
       "      <td>2.695495e+05</td>\n",
       "      <td>2.642338e+05</td>\n",
       "      <td>2.625890e+05</td>\n",
       "      <td>26.000000</td>\n",
       "      <td>3.621450e+06</td>\n",
       "      <td>0.000000</td>\n",
       "      <td>0.000000</td>\n",
       "      <td>1.000000</td>\n",
       "      <td>0.000000</td>\n",
       "      <td>0.000000</td>\n",
       "      <td>0.000000</td>\n",
       "      <td>7.000000</td>\n",
       "      <td>0.000000</td>\n",
       "      <td>0.000000</td>\n",
       "      <td>0.000000</td>\n",
       "      <td>0.000000</td>\n",
       "      <td>0.00000</td>\n",
       "      <td>0.000000</td>\n",
       "      <td>0.000000</td>\n",
       "      <td>0.000000</td>\n",
       "    </tr>\n",
       "    <tr>\n",
       "      <th>50%</th>\n",
       "      <td>10.000000</td>\n",
       "      <td>1.192012e+06</td>\n",
       "      <td>15.000000</td>\n",
       "      <td>10.000000</td>\n",
       "      <td>1.192012e+06</td>\n",
       "      <td>15.000000</td>\n",
       "      <td>491138.000000</td>\n",
       "      <td>3.000000</td>\n",
       "      <td>3.000000</td>\n",
       "      <td>3.000000</td>\n",
       "      <td>4.100760e+05</td>\n",
       "      <td>4.037670e+05</td>\n",
       "      <td>4.033645e+05</td>\n",
       "      <td>29.000000</td>\n",
       "      <td>4.934000e+06</td>\n",
       "      <td>0.000000</td>\n",
       "      <td>1.000000</td>\n",
       "      <td>1.000000</td>\n",
       "      <td>0.000000</td>\n",
       "      <td>0.000000</td>\n",
       "      <td>0.000000</td>\n",
       "      <td>15.000000</td>\n",
       "      <td>0.000000</td>\n",
       "      <td>0.000000</td>\n",
       "      <td>1.000000</td>\n",
       "      <td>0.000000</td>\n",
       "      <td>0.00000</td>\n",
       "      <td>0.000000</td>\n",
       "      <td>0.000000</td>\n",
       "      <td>1.000000</td>\n",
       "    </tr>\n",
       "    <tr>\n",
       "      <th>75%</th>\n",
       "      <td>13.000000</td>\n",
       "      <td>1.721227e+06</td>\n",
       "      <td>23.000000</td>\n",
       "      <td>13.000000</td>\n",
       "      <td>1.721227e+06</td>\n",
       "      <td>23.000000</td>\n",
       "      <td>740317.500000</td>\n",
       "      <td>4.000000</td>\n",
       "      <td>5.000000</td>\n",
       "      <td>5.000000</td>\n",
       "      <td>5.859138e+05</td>\n",
       "      <td>5.873372e+05</td>\n",
       "      <td>5.805908e+05</td>\n",
       "      <td>33.000000</td>\n",
       "      <td>6.645525e+06</td>\n",
       "      <td>0.000000</td>\n",
       "      <td>1.000000</td>\n",
       "      <td>1.000000</td>\n",
       "      <td>0.000000</td>\n",
       "      <td>0.000000</td>\n",
       "      <td>0.000000</td>\n",
       "      <td>23.000000</td>\n",
       "      <td>1.000000</td>\n",
       "      <td>1.000000</td>\n",
       "      <td>1.000000</td>\n",
       "      <td>1.000000</td>\n",
       "      <td>1.00000</td>\n",
       "      <td>1.000000</td>\n",
       "      <td>1.000000</td>\n",
       "      <td>1.000000</td>\n",
       "    </tr>\n",
       "    <tr>\n",
       "      <th>max</th>\n",
       "      <td>35.000000</td>\n",
       "      <td>8.917156e+06</td>\n",
       "      <td>117.000000</td>\n",
       "      <td>35.000000</td>\n",
       "      <td>8.917156e+06</td>\n",
       "      <td>117.000000</td>\n",
       "      <td>999588.000000</td>\n",
       "      <td>10.000000</td>\n",
       "      <td>19.000000</td>\n",
       "      <td>14.000000</td>\n",
       "      <td>2.721152e+06</td>\n",
       "      <td>2.968310e+06</td>\n",
       "      <td>3.227694e+06</td>\n",
       "      <td>59.000000</td>\n",
       "      <td>1.851790e+07</td>\n",
       "      <td>1.000000</td>\n",
       "      <td>1.000000</td>\n",
       "      <td>1.000000</td>\n",
       "      <td>1.000000</td>\n",
       "      <td>1.000000</td>\n",
       "      <td>1.000000</td>\n",
       "      <td>117.000000</td>\n",
       "      <td>1.000000</td>\n",
       "      <td>1.000000</td>\n",
       "      <td>1.000000</td>\n",
       "      <td>1.000000</td>\n",
       "      <td>1.00000</td>\n",
       "      <td>1.000000</td>\n",
       "      <td>1.000000</td>\n",
       "      <td>1.000000</td>\n",
       "    </tr>\n",
       "  </tbody>\n",
       "</table>\n",
       "</div>"
      ],
      "text/plain": [
       "       frequency_CONVERTED  monetary_CONVERTED  recency_CONVERTED  \\\n",
       "count          5000.000000        5.000000e+03        5000.000000   \n",
       "mean             10.277200        1.351763e+06          16.101400   \n",
       "std               5.112845        7.711333e+05          11.511751   \n",
       "min               0.000000        0.000000e+00           0.000000   \n",
       "25%               6.000000        7.933015e+05           7.000000   \n",
       "50%              10.000000        1.192012e+06          15.000000   \n",
       "75%              13.000000        1.721227e+06          23.000000   \n",
       "max              35.000000        8.917156e+06         117.000000   \n",
       "\n",
       "         frequency      monetary      recency      member_id  visit_last_1mo  \\\n",
       "count  5000.000000  5.000000e+03  5000.000000    5000.000000     5000.000000   \n",
       "mean     10.277200  1.351763e+06    16.101400  491626.836600        3.036200   \n",
       "std       5.112845  7.711333e+05    11.511751  288619.861793        1.759065   \n",
       "min       0.000000  0.000000e+00     0.000000     182.000000        0.000000   \n",
       "25%       6.000000  7.933015e+05     7.000000  240132.500000        2.000000   \n",
       "50%      10.000000  1.192012e+06    15.000000  491138.000000        3.000000   \n",
       "75%      13.000000  1.721227e+06    23.000000  740317.500000        4.000000   \n",
       "max      35.000000  8.917156e+06   117.000000  999588.000000       10.000000   \n",
       "\n",
       "       visit_last_2mo  visit_last_3mo  spending_last_1mo  spending_last_2mo  \\\n",
       "count     5000.000000     5000.000000       5.000000e+03       5.000000e+03   \n",
       "mean         3.737200        3.503800       4.523516e+05       4.506261e+05   \n",
       "std          2.375387        2.195028       2.659213e+05       2.756227e+05   \n",
       "min          0.000000        0.000000       0.000000e+00       0.000000e+00   \n",
       "25%          2.000000        2.000000       2.695495e+05       2.642338e+05   \n",
       "50%          3.000000        3.000000       4.100760e+05       4.037670e+05   \n",
       "75%          5.000000        5.000000       5.859138e+05       5.873372e+05   \n",
       "max         19.000000       14.000000       2.721152e+06       2.968310e+06   \n",
       "\n",
       "       spending_last_3mo          age  monthly_income  buy_groceries  \\\n",
       "count       5.000000e+03  5000.000000    5.000000e+03    5000.000000   \n",
       "mean        4.487855e+05    29.580000    5.304118e+06       0.189600   \n",
       "std         2.762052e+05     5.531629    2.291426e+06       0.392024   \n",
       "min         0.000000e+00    18.000000    5.967000e+05       0.000000   \n",
       "25%         2.625890e+05    26.000000    3.621450e+06       0.000000   \n",
       "50%         4.033645e+05    29.000000    4.934000e+06       0.000000   \n",
       "75%         5.805908e+05    33.000000    6.645525e+06       0.000000   \n",
       "max         3.227694e+06    59.000000    1.851790e+07       1.000000   \n",
       "\n",
       "       buy_toiletries     buy_food  buy_electronic  buy_clothes  \\\n",
       "count     5000.000000  5000.000000     5000.000000  5000.000000   \n",
       "mean         0.741200     0.893400        0.079400     0.096000   \n",
       "std          0.438019     0.308635        0.270389     0.294621   \n",
       "min          0.000000     0.000000        0.000000     0.000000   \n",
       "25%          0.000000     1.000000        0.000000     0.000000   \n",
       "50%          1.000000     1.000000        0.000000     0.000000   \n",
       "75%          1.000000     1.000000        0.000000     0.000000   \n",
       "max          1.000000     1.000000        1.000000     1.000000   \n",
       "\n",
       "       buy_home_appliances  recency_last_visit     response    is_single  \\\n",
       "count          5000.000000         5000.000000  5000.000000  5000.000000   \n",
       "mean              0.243000           16.101400     0.431800     0.329800   \n",
       "std               0.428938           11.511751     0.495376     0.470187   \n",
       "min               0.000000            0.000000     0.000000     0.000000   \n",
       "25%               0.000000            7.000000     0.000000     0.000000   \n",
       "50%               0.000000           15.000000     0.000000     0.000000   \n",
       "75%               0.000000           23.000000     1.000000     1.000000   \n",
       "max               1.000000          117.000000     1.000000     1.000000   \n",
       "\n",
       "        is_married      is_cash    is_debit    is_credit      is_male  \\\n",
       "count  5000.000000  5000.000000  5000.00000  5000.000000  5000.000000   \n",
       "mean      0.670200     0.423600     0.26640     0.310000     0.400400   \n",
       "std       0.470187     0.494178     0.44212     0.462539     0.490028   \n",
       "min       0.000000     0.000000     0.00000     0.000000     0.000000   \n",
       "25%       0.000000     0.000000     0.00000     0.000000     0.000000   \n",
       "50%       1.000000     0.000000     0.00000     0.000000     0.000000   \n",
       "75%       1.000000     1.000000     1.00000     1.000000     1.000000   \n",
       "max       1.000000     1.000000     1.00000     1.000000     1.000000   \n",
       "\n",
       "         is_female  \n",
       "count  5000.000000  \n",
       "mean      0.599600  \n",
       "std       0.490028  \n",
       "min       0.000000  \n",
       "25%       0.000000  \n",
       "50%       1.000000  \n",
       "75%       1.000000  \n",
       "max       1.000000  "
      ]
     },
     "execution_count": 6,
     "metadata": {},
     "output_type": "execute_result"
    },
    {
     "name": "stdout",
     "output_type": "stream",
     "text": [
      "time: 210 ms\n"
     ]
    }
   ],
   "source": [
    "df.describe()"
   ]
  },
  {
   "cell_type": "code",
   "execution_count": 7,
   "metadata": {},
   "outputs": [
    {
     "name": "stdout",
     "output_type": "stream",
     "text": [
      "<class 'pandas.core.frame.DataFrame'>\n",
      "RangeIndex: 5000 entries, 0 to 4999\n",
      "Data columns (total 33 columns):\n",
      " #   Column               Non-Null Count  Dtype \n",
      "---  ------               --------------  ----- \n",
      " 0   frequency_CONVERTED  5000 non-null   int64 \n",
      " 1   monetary_CONVERTED   5000 non-null   int64 \n",
      " 2   recency_CONVERTED    5000 non-null   int64 \n",
      " 3   frequency            5000 non-null   int64 \n",
      " 4   monetary             5000 non-null   int64 \n",
      " 5   recency              5000 non-null   int64 \n",
      " 6   member_id            5000 non-null   int64 \n",
      " 7   gender               5000 non-null   object\n",
      " 8   visit_last_1mo       5000 non-null   int64 \n",
      " 9   visit_last_2mo       5000 non-null   int64 \n",
      " 10  visit_last_3mo       5000 non-null   int64 \n",
      " 11  spending_last_1mo    5000 non-null   int64 \n",
      " 12  spending_last_2mo    5000 non-null   int64 \n",
      " 13  spending_last_3mo    5000 non-null   int64 \n",
      " 14  age                  5000 non-null   int64 \n",
      " 15  monthly_income       5000 non-null   int64 \n",
      " 16  marital_status       5000 non-null   object\n",
      " 17  payment_channel      5000 non-null   object\n",
      " 18  buy_groceries        5000 non-null   int64 \n",
      " 19  buy_toiletries       5000 non-null   int64 \n",
      " 20  buy_food             5000 non-null   int64 \n",
      " 21  buy_electronic       5000 non-null   int64 \n",
      " 22  buy_clothes          5000 non-null   int64 \n",
      " 23  buy_home_appliances  5000 non-null   int64 \n",
      " 24  recency_last_visit   5000 non-null   int64 \n",
      " 25  response             5000 non-null   int64 \n",
      " 26  is_single            5000 non-null   int64 \n",
      " 27  is_married           5000 non-null   int64 \n",
      " 28  is_cash              5000 non-null   int64 \n",
      " 29  is_debit             5000 non-null   int64 \n",
      " 30  is_credit            5000 non-null   int64 \n",
      " 31  is_male              5000 non-null   int64 \n",
      " 32  is_female            5000 non-null   int64 \n",
      "dtypes: int64(30), object(3)\n",
      "memory usage: 1.3+ MB\n",
      "time: 14.1 ms\n"
     ]
    }
   ],
   "source": [
    "df.info()"
   ]
  },
  {
   "cell_type": "code",
   "execution_count": 8,
   "metadata": {},
   "outputs": [
    {
     "data": {
      "text/plain": [
       "frequency_CONVERTED    False\n",
       "monetary_CONVERTED     False\n",
       "recency_CONVERTED      False\n",
       "frequency              False\n",
       "monetary               False\n",
       "recency                False\n",
       "member_id              False\n",
       "gender                 False\n",
       "visit_last_1mo         False\n",
       "visit_last_2mo         False\n",
       "visit_last_3mo         False\n",
       "spending_last_1mo      False\n",
       "spending_last_2mo      False\n",
       "spending_last_3mo      False\n",
       "age                    False\n",
       "monthly_income         False\n",
       "marital_status         False\n",
       "payment_channel        False\n",
       "buy_groceries          False\n",
       "buy_toiletries         False\n",
       "buy_food               False\n",
       "buy_electronic         False\n",
       "buy_clothes            False\n",
       "buy_home_appliances    False\n",
       "recency_last_visit     False\n",
       "response               False\n",
       "is_single              False\n",
       "is_married             False\n",
       "is_cash                False\n",
       "is_debit               False\n",
       "is_credit              False\n",
       "is_male                False\n",
       "is_female              False\n",
       "dtype: bool"
      ]
     },
     "execution_count": 8,
     "metadata": {},
     "output_type": "execute_result"
    },
    {
     "name": "stdout",
     "output_type": "stream",
     "text": [
      "time: 10.2 ms\n"
     ]
    }
   ],
   "source": [
    "df.isna().any()"
   ]
  },
  {
   "cell_type": "code",
   "execution_count": 9,
   "metadata": {},
   "outputs": [
    {
     "data": {
      "text/plain": [
       "frequency_CONVERTED    False\n",
       "monetary_CONVERTED     False\n",
       "recency_CONVERTED      False\n",
       "frequency              False\n",
       "monetary               False\n",
       "recency                False\n",
       "member_id              False\n",
       "gender                 False\n",
       "visit_last_1mo         False\n",
       "visit_last_2mo         False\n",
       "visit_last_3mo         False\n",
       "spending_last_1mo      False\n",
       "spending_last_2mo      False\n",
       "spending_last_3mo      False\n",
       "age                    False\n",
       "monthly_income         False\n",
       "marital_status         False\n",
       "payment_channel        False\n",
       "buy_groceries          False\n",
       "buy_toiletries         False\n",
       "buy_food               False\n",
       "buy_electronic         False\n",
       "buy_clothes            False\n",
       "buy_home_appliances    False\n",
       "recency_last_visit     False\n",
       "response               False\n",
       "is_single              False\n",
       "is_married             False\n",
       "is_cash                False\n",
       "is_debit               False\n",
       "is_credit              False\n",
       "is_male                False\n",
       "is_female              False\n",
       "dtype: bool"
      ]
     },
     "execution_count": 9,
     "metadata": {},
     "output_type": "execute_result"
    },
    {
     "name": "stdout",
     "output_type": "stream",
     "text": [
      "time: 8.48 ms\n"
     ]
    }
   ],
   "source": [
    "df.isnull().any()"
   ]
  },
  {
   "cell_type": "markdown",
   "metadata": {},
   "source": [
    "# 2. DATA PREPARATION"
   ]
  },
  {
   "cell_type": "markdown",
   "metadata": {},
   "source": [
    "1. Drop Unused Columns\n",
    "2. Imputation\n",
    "3. Handling Outliers with std\n",
    "4. Handling Outlier with iqr"
   ]
  },
  {
   "cell_type": "markdown",
   "metadata": {},
   "source": [
    "## 2.1 Drop Columns"
   ]
  },
  {
   "cell_type": "code",
   "execution_count": 11,
   "metadata": {},
   "outputs": [
    {
     "data": {
      "text/html": [
       "<div>\n",
       "<style scoped>\n",
       "    .dataframe tbody tr th:only-of-type {\n",
       "        vertical-align: middle;\n",
       "    }\n",
       "\n",
       "    .dataframe tbody tr th {\n",
       "        vertical-align: top;\n",
       "    }\n",
       "\n",
       "    .dataframe thead th {\n",
       "        text-align: right;\n",
       "    }\n",
       "</style>\n",
       "<table border=\"1\" class=\"dataframe\">\n",
       "  <thead>\n",
       "    <tr style=\"text-align: right;\">\n",
       "      <th></th>\n",
       "      <th>frequency</th>\n",
       "      <th>monetary</th>\n",
       "      <th>recency</th>\n",
       "    </tr>\n",
       "    <tr>\n",
       "      <th>member_id</th>\n",
       "      <th></th>\n",
       "      <th></th>\n",
       "      <th></th>\n",
       "    </tr>\n",
       "  </thead>\n",
       "  <tbody>\n",
       "    <tr>\n",
       "      <th>237398</th>\n",
       "      <td>16</td>\n",
       "      <td>535238</td>\n",
       "      <td>27</td>\n",
       "    </tr>\n",
       "    <tr>\n",
       "      <th>502009</th>\n",
       "      <td>14</td>\n",
       "      <td>2473473</td>\n",
       "      <td>5</td>\n",
       "    </tr>\n",
       "    <tr>\n",
       "      <th>11841</th>\n",
       "      <td>8</td>\n",
       "      <td>3114644</td>\n",
       "      <td>3</td>\n",
       "    </tr>\n",
       "    <tr>\n",
       "      <th>645389</th>\n",
       "      <td>6</td>\n",
       "      <td>818743</td>\n",
       "      <td>27</td>\n",
       "    </tr>\n",
       "    <tr>\n",
       "      <th>225416</th>\n",
       "      <td>10</td>\n",
       "      <td>2670700</td>\n",
       "      <td>1</td>\n",
       "    </tr>\n",
       "  </tbody>\n",
       "</table>\n",
       "</div>"
      ],
      "text/plain": [
       "           frequency  monetary  recency\n",
       "member_id                              \n",
       "237398            16    535238       27\n",
       "502009            14   2473473        5\n",
       "11841              8   3114644        3\n",
       "645389             6    818743       27\n",
       "225416            10   2670700        1"
      ]
     },
     "execution_count": 11,
     "metadata": {},
     "output_type": "execute_result"
    },
    {
     "name": "stdout",
     "output_type": "stream",
     "text": [
      "time: 12.7 ms\n"
     ]
    }
   ],
   "source": [
    "df2 = df[['frequency', 'monetary', 'recency','member_id']]\n",
    "df2 = df2.set_index(['member_id'])\n",
    "df2.head()"
   ]
  },
  {
   "cell_type": "markdown",
   "metadata": {},
   "source": [
    "## 2.2 Imputation"
   ]
  },
  {
   "cell_type": "code",
   "execution_count": 19,
   "metadata": {},
   "outputs": [
    {
     "name": "stdout",
     "output_type": "stream",
     "text": [
      "time: 1.91 ms\n"
     ]
    }
   ],
   "source": [
    "x_imp = df2.fillna(0)"
   ]
  },
  {
   "cell_type": "code",
   "execution_count": 20,
   "metadata": {},
   "outputs": [
    {
     "data": {
      "text/plain": [
       "frequency    False\n",
       "monetary     False\n",
       "recency      False\n",
       "dtype: bool"
      ]
     },
     "execution_count": 20,
     "metadata": {},
     "output_type": "execute_result"
    },
    {
     "name": "stdout",
     "output_type": "stream",
     "text": [
      "time: 7.48 ms\n"
     ]
    }
   ],
   "source": [
    "x_imp.isna().any()"
   ]
  },
  {
   "cell_type": "code",
   "execution_count": 21,
   "metadata": {},
   "outputs": [
    {
     "data": {
      "text/plain": [
       "frequency    False\n",
       "monetary     False\n",
       "recency      False\n",
       "dtype: bool"
      ]
     },
     "execution_count": 21,
     "metadata": {},
     "output_type": "execute_result"
    },
    {
     "name": "stdout",
     "output_type": "stream",
     "text": [
      "time: 6.28 ms\n"
     ]
    }
   ],
   "source": [
    "x_imp.isnull().any()"
   ]
  },
  {
   "cell_type": "markdown",
   "metadata": {},
   "source": [
    "## 2.3 Handling Outliers with 3*std"
   ]
  },
  {
   "cell_type": "code",
   "execution_count": 22,
   "metadata": {},
   "outputs": [
    {
     "name": "stdout",
     "output_type": "stream",
     "text": [
      "time: 74.2 ms\n"
     ]
    }
   ],
   "source": [
    "import numpy as np\n",
    "\n",
    "non_zero_std = (np.std(x_imp, axis=0) !=0)\n",
    "x_imp = x_imp[x_imp.columns[non_zero_std]]\n",
    "mean_X = x_imp.mean()\n",
    "std_X = x_imp.std()\n",
    "up_bound =  x_imp + (3*std_X)\n",
    "low_bound =  x_imp - (3*std_X)\n",
    "more_than_up_bound = (x_imp > mean_X + (3*std_X))\n",
    "lower_than_low_bound = (x_imp < mean_X - (3*std_X))\n",
    "df_filter_cap = x_imp.mask(more_than_up_bound, up_bound, axis=1) \n",
    "df_filter_cap = df_filter_cap.mask(lower_than_low_bound, low_bound, axis=1)\n",
    "x_cap = df_filter_cap"
   ]
  },
  {
   "cell_type": "code",
   "execution_count": 23,
   "metadata": {},
   "outputs": [
    {
     "data": {
      "text/html": [
       "<div>\n",
       "<style scoped>\n",
       "    .dataframe tbody tr th:only-of-type {\n",
       "        vertical-align: middle;\n",
       "    }\n",
       "\n",
       "    .dataframe tbody tr th {\n",
       "        vertical-align: top;\n",
       "    }\n",
       "\n",
       "    .dataframe thead th {\n",
       "        text-align: right;\n",
       "    }\n",
       "</style>\n",
       "<table border=\"1\" class=\"dataframe\">\n",
       "  <thead>\n",
       "    <tr style=\"text-align: right;\">\n",
       "      <th></th>\n",
       "      <th>frequency</th>\n",
       "      <th>monetary</th>\n",
       "      <th>recency</th>\n",
       "    </tr>\n",
       "    <tr>\n",
       "      <th>member_id</th>\n",
       "      <th></th>\n",
       "      <th></th>\n",
       "      <th></th>\n",
       "    </tr>\n",
       "  </thead>\n",
       "  <tbody>\n",
       "    <tr>\n",
       "      <th>237398</th>\n",
       "      <td>16.0</td>\n",
       "      <td>535238.0</td>\n",
       "      <td>27.0</td>\n",
       "    </tr>\n",
       "    <tr>\n",
       "      <th>502009</th>\n",
       "      <td>14.0</td>\n",
       "      <td>2473473.0</td>\n",
       "      <td>5.0</td>\n",
       "    </tr>\n",
       "    <tr>\n",
       "      <th>11841</th>\n",
       "      <td>8.0</td>\n",
       "      <td>3114644.0</td>\n",
       "      <td>3.0</td>\n",
       "    </tr>\n",
       "    <tr>\n",
       "      <th>645389</th>\n",
       "      <td>6.0</td>\n",
       "      <td>818743.0</td>\n",
       "      <td>27.0</td>\n",
       "    </tr>\n",
       "    <tr>\n",
       "      <th>225416</th>\n",
       "      <td>10.0</td>\n",
       "      <td>2670700.0</td>\n",
       "      <td>1.0</td>\n",
       "    </tr>\n",
       "  </tbody>\n",
       "</table>\n",
       "</div>"
      ],
      "text/plain": [
       "           frequency   monetary  recency\n",
       "member_id                               \n",
       "237398          16.0   535238.0     27.0\n",
       "502009          14.0  2473473.0      5.0\n",
       "11841            8.0  3114644.0      3.0\n",
       "645389           6.0   818743.0     27.0\n",
       "225416          10.0  2670700.0      1.0"
      ]
     },
     "execution_count": 23,
     "metadata": {},
     "output_type": "execute_result"
    },
    {
     "name": "stdout",
     "output_type": "stream",
     "text": [
      "time: 13.5 ms\n"
     ]
    }
   ],
   "source": [
    "x_cap.head()"
   ]
  },
  {
   "cell_type": "code",
   "execution_count": 24,
   "metadata": {},
   "outputs": [
    {
     "data": {
      "text/plain": [
       "(5000, 3)"
      ]
     },
     "execution_count": 24,
     "metadata": {},
     "output_type": "execute_result"
    },
    {
     "name": "stdout",
     "output_type": "stream",
     "text": [
      "time: 2.99 ms\n"
     ]
    }
   ],
   "source": [
    "x_cap.shape"
   ]
  },
  {
   "cell_type": "markdown",
   "metadata": {},
   "source": [
    "## 2.4 Handling Outliers with Q3-Q1"
   ]
  },
  {
   "cell_type": "code",
   "execution_count": 26,
   "metadata": {},
   "outputs": [
    {
     "data": {
      "text/html": [
       "<div>\n",
       "<style scoped>\n",
       "    .dataframe tbody tr th:only-of-type {\n",
       "        vertical-align: middle;\n",
       "    }\n",
       "\n",
       "    .dataframe tbody tr th {\n",
       "        vertical-align: top;\n",
       "    }\n",
       "\n",
       "    .dataframe thead th {\n",
       "        text-align: right;\n",
       "    }\n",
       "</style>\n",
       "<table border=\"1\" class=\"dataframe\">\n",
       "  <thead>\n",
       "    <tr style=\"text-align: right;\">\n",
       "      <th></th>\n",
       "      <th>frequency</th>\n",
       "      <th>monetary</th>\n",
       "      <th>recency</th>\n",
       "    </tr>\n",
       "    <tr>\n",
       "      <th>member_id</th>\n",
       "      <th></th>\n",
       "      <th></th>\n",
       "      <th></th>\n",
       "    </tr>\n",
       "  </thead>\n",
       "  <tbody>\n",
       "    <tr>\n",
       "      <th>237398</th>\n",
       "      <td>16.0</td>\n",
       "      <td>535238.0</td>\n",
       "      <td>27.0</td>\n",
       "    </tr>\n",
       "    <tr>\n",
       "      <th>502009</th>\n",
       "      <td>14.0</td>\n",
       "      <td>2473473.0</td>\n",
       "      <td>5.0</td>\n",
       "    </tr>\n",
       "    <tr>\n",
       "      <th>645389</th>\n",
       "      <td>6.0</td>\n",
       "      <td>818743.0</td>\n",
       "      <td>27.0</td>\n",
       "    </tr>\n",
       "    <tr>\n",
       "      <th>225416</th>\n",
       "      <td>10.0</td>\n",
       "      <td>2670700.0</td>\n",
       "      <td>1.0</td>\n",
       "    </tr>\n",
       "    <tr>\n",
       "      <th>909605</th>\n",
       "      <td>9.0</td>\n",
       "      <td>1283424.0</td>\n",
       "      <td>2.0</td>\n",
       "    </tr>\n",
       "  </tbody>\n",
       "</table>\n",
       "</div>"
      ],
      "text/plain": [
       "           frequency   monetary  recency\n",
       "member_id                               \n",
       "237398          16.0   535238.0     27.0\n",
       "502009          14.0  2473473.0      5.0\n",
       "645389           6.0   818743.0     27.0\n",
       "225416          10.0  2670700.0      1.0\n",
       "909605           9.0  1283424.0      2.0"
      ]
     },
     "execution_count": 26,
     "metadata": {},
     "output_type": "execute_result"
    },
    {
     "name": "stdout",
     "output_type": "stream",
     "text": [
      "time: 20.5 ms\n"
     ]
    }
   ],
   "source": [
    "import numpy as np\n",
    "x_iqr = df2.fillna(0)\n",
    "Q1 = x_iqr.quantile(0.25)\n",
    "Q3 = x_iqr.quantile(0.75)\n",
    "JAK = Q3 - Q1\n",
    "x_iqr= x_iqr[~((x_iqr< (Q1 - 1.5 * JAK)) |(x_iqr> (Q3 + 1.5 * JAK))).any(axis=1)]\n",
    "x_iqr.head()"
   ]
  },
  {
   "cell_type": "markdown",
   "metadata": {},
   "source": [
    "# 3. PERLIMINARY DATA EXPLORATION / VISUALIZATION"
   ]
  },
  {
   "cell_type": "markdown",
   "metadata": {},
   "source": [
    "usig pandas profile"
   ]
  },
  {
   "cell_type": "code",
   "execution_count": 27,
   "metadata": {},
   "outputs": [
    {
     "name": "stdout",
     "output_type": "stream",
     "text": [
      "time: 369 µs\n"
     ]
    }
   ],
   "source": [
    "##!pip install pandas-profiling==2.8.0"
   ]
  },
  {
   "cell_type": "code",
   "execution_count": 28,
   "metadata": {},
   "outputs": [
    {
     "name": "stdout",
     "output_type": "stream",
     "text": [
      "time: 2.36 s\n"
     ]
    }
   ],
   "source": [
    "import pandas_profiling"
   ]
  },
  {
   "cell_type": "code",
   "execution_count": 29,
   "metadata": {},
   "outputs": [
    {
     "name": "stdout",
     "output_type": "stream",
     "text": [
      "time: 641 µs\n"
     ]
    }
   ],
   "source": [
    "##jika mau sampling\n",
    "##df10col = x_cap.sample(n=10, axis=1)\n",
    "##dfsample = df10col.sample(100).reset_index(drop=True)"
   ]
  },
  {
   "cell_type": "code",
   "execution_count": 30,
   "metadata": {},
   "outputs": [
    {
     "name": "stdout",
     "output_type": "stream",
     "text": [
      "time: 566 µs\n"
     ]
    }
   ],
   "source": [
    "#from pandas_profiling import ProfileReport\n",
    "#ProfileReport(x_cap)"
   ]
  },
  {
   "cell_type": "markdown",
   "metadata": {},
   "source": [
    "# 4. FEATURE ENGINEERING"
   ]
  },
  {
   "cell_type": "markdown",
   "metadata": {},
   "source": [
    "1. Stanradization (if needed)\n",
    "2. Convert feature into numpy array"
   ]
  },
  {
   "cell_type": "markdown",
   "metadata": {},
   "source": [
    "# 4.1 Standardization"
   ]
  },
  {
   "cell_type": "code",
   "execution_count": 31,
   "metadata": {},
   "outputs": [
    {
     "data": {
      "text/html": [
       "<div>\n",
       "<style scoped>\n",
       "    .dataframe tbody tr th:only-of-type {\n",
       "        vertical-align: middle;\n",
       "    }\n",
       "\n",
       "    .dataframe tbody tr th {\n",
       "        vertical-align: top;\n",
       "    }\n",
       "\n",
       "    .dataframe thead th {\n",
       "        text-align: right;\n",
       "    }\n",
       "</style>\n",
       "<table border=\"1\" class=\"dataframe\">\n",
       "  <thead>\n",
       "    <tr style=\"text-align: right;\">\n",
       "      <th></th>\n",
       "      <th>frequency</th>\n",
       "      <th>monetary</th>\n",
       "      <th>recency</th>\n",
       "    </tr>\n",
       "  </thead>\n",
       "  <tbody>\n",
       "    <tr>\n",
       "      <th>0</th>\n",
       "      <td>0.860515</td>\n",
       "      <td>-0.767121</td>\n",
       "      <td>0.546064</td>\n",
       "    </tr>\n",
       "    <tr>\n",
       "      <th>1</th>\n",
       "      <td>0.547834</td>\n",
       "      <td>0.915853</td>\n",
       "      <td>-0.680453</td>\n",
       "    </tr>\n",
       "    <tr>\n",
       "      <th>2</th>\n",
       "      <td>-0.390211</td>\n",
       "      <td>1.472584</td>\n",
       "      <td>-0.791955</td>\n",
       "    </tr>\n",
       "    <tr>\n",
       "      <th>3</th>\n",
       "      <td>-0.702893</td>\n",
       "      <td>-0.520953</td>\n",
       "      <td>0.546064</td>\n",
       "    </tr>\n",
       "    <tr>\n",
       "      <th>4</th>\n",
       "      <td>-0.077529</td>\n",
       "      <td>1.087106</td>\n",
       "      <td>-0.903457</td>\n",
       "    </tr>\n",
       "  </tbody>\n",
       "</table>\n",
       "</div>"
      ],
      "text/plain": [
       "   frequency  monetary   recency\n",
       "0   0.860515 -0.767121  0.546064\n",
       "1   0.547834  0.915853 -0.680453\n",
       "2  -0.390211  1.472584 -0.791955\n",
       "3  -0.702893 -0.520953  0.546064\n",
       "4  -0.077529  1.087106 -0.903457"
      ]
     },
     "execution_count": 31,
     "metadata": {},
     "output_type": "execute_result"
    },
    {
     "name": "stdout",
     "output_type": "stream",
     "text": [
      "time: 47.7 ms\n"
     ]
    }
   ],
   "source": [
    "from sklearn.preprocessing import StandardScaler\n",
    "\n",
    "def standardizer(x_cap):\n",
    "    data_columns = x_cap.columns\n",
    "    data_index = x_cap.index\n",
    "    normalize = StandardScaler()\n",
    "    normalize.fit(x_cap)\n",
    "    \n",
    "    normalize_x = pd.DataFrame(normalize.transform(x_cap))\n",
    "    normalize_x.columns = data_columns\n",
    "    return normalize_x, normalize\n",
    "\n",
    "X_normalized, normalize = standardizer(x_cap)\n",
    "X_normalized.head()"
   ]
  },
  {
   "cell_type": "code",
   "execution_count": 32,
   "metadata": {},
   "outputs": [
    {
     "data": {
      "text/plain": [
       "(5000, 3)"
      ]
     },
     "execution_count": 32,
     "metadata": {},
     "output_type": "execute_result"
    },
    {
     "name": "stdout",
     "output_type": "stream",
     "text": [
      "time: 3.74 ms\n"
     ]
    }
   ],
   "source": [
    "X_normalized.shape"
   ]
  },
  {
   "cell_type": "markdown",
   "metadata": {},
   "source": [
    "## 4.2 Convert to Numpy Array"
   ]
  },
  {
   "cell_type": "code",
   "execution_count": 68,
   "metadata": {},
   "outputs": [
    {
     "name": "stdout",
     "output_type": "stream",
     "text": [
      "[[1.600000e+01 5.352380e+05 2.700000e+01]\n",
      " [1.400000e+01 2.473473e+06 5.000000e+00]\n",
      " [8.000000e+00 3.114644e+06 3.000000e+00]\n",
      " ...\n",
      " [1.300000e+01 1.218787e+06 8.000000e+00]\n",
      " [1.100000e+01 7.687060e+05 3.000000e+00]\n",
      " [6.000000e+00 1.338824e+06 1.800000e+01]]\n",
      "time: 7.6 ms\n"
     ]
    }
   ],
   "source": [
    "X_clust = x_cap\n",
    "X_clust[\"frequency\"] = pd.to_numeric(X_clust[\"frequency\"])\n",
    "X_clust[\"monetary\"] = pd.to_numeric(X_clust[\"monetary\"])\n",
    "X_clust[\"recency\"] = pd.to_numeric(X_clust[\"recency\"])\n",
    "\n",
    "num_data = X_clust.iloc[:, :]\n",
    "\n",
    "# mengubahnya menjadi array\n",
    "num_array = np.array(num_data)\n",
    "print(num_array)"
   ]
  },
  {
   "cell_type": "markdown",
   "metadata": {},
   "source": [
    "# 5. CLUSTERING"
   ]
  },
  {
   "cell_type": "markdown",
   "metadata": {},
   "source": [
    "1. Elbow Method\n",
    "2. Silhoutte Analysis\n",
    "3. Crete FInal Cluster\n",
    "4. Visualize and Evaluate"
   ]
  },
  {
   "cell_type": "markdown",
   "metadata": {},
   "source": [
    "# 5.1 Elbow Method"
   ]
  },
  {
   "cell_type": "code",
   "execution_count": 69,
   "metadata": {},
   "outputs": [
    {
     "data": {
      "image/png": "[encoded data removed]",
      "text/plain": [
       "<Figure size 1440x720 with 1 Axes>"
      ]
     },
     "metadata": {},
     "output_type": "display_data"
    },
    {
     "name": "stdout",
     "output_type": "stream",
     "text": [
      "time: 8.47 s\n"
     ]
    }
   ],
   "source": [
    "from sklearn.cluster import KMeans\n",
    "import matplotlib.pyplot as plt\n",
    "\n",
    "sse = []\n",
    "k_list = []\n",
    "for k in range(1, 11):\n",
    "    kmeans = KMeans(n_clusters = k).fit(num_data)\n",
    "    centroids = kmeans.cluster_centers_\n",
    "    prediksi = kmeans.predict(num_data)\n",
    "    nilai_sse = 0\n",
    "    \n",
    "    for i in range(len(num_data)):\n",
    "        titik_pusat = centroids[prediksi[i]]\n",
    "        nilai_sse += ((num_data.iloc[i, 0] - titik_pusat[0]) ** 2 + (num_data.iloc[i, 1] - titik_pusat[1]) ** 2 + (num_data.iloc[i, 2] - titik_pusat[2]) ** 2)\n",
    "    \n",
    "    sse.append(nilai_sse)\n",
    "    k_list.append(k)\n",
    "\n",
    "plt.figure(figsize=(20,10))\n",
    "plt.plot(k_list,sse)\n",
    "plt.xticks(np.arange(0, 11, 1.0))\n",
    "plt.show()"
   ]
  },
  {
   "cell_type": "code",
   "execution_count": 70,
   "metadata": {},
   "outputs": [
    {
     "data": {
      "image/png": "[encoded data removed]",
      "text/plain": [
       "<Figure size 576x396 with 2 Axes>"
      ]
     },
     "metadata": {},
     "output_type": "display_data"
    },
    {
     "data": {
      "text/plain": [
       "KElbowVisualizer(ax=<AxesSubplot:title={'center':'Distortion Score Elbow for KMeans Clustering'}, xlabel='k', ylabel='distortion score'>,\n",
       "                 k=None, locate_elbow=True, metric='distortion', model=None,\n",
       "                 timings=True)"
      ]
     },
     "execution_count": 70,
     "metadata": {},
     "output_type": "execute_result"
    },
    {
     "name": "stdout",
     "output_type": "stream",
     "text": [
      "time: 3.4 s\n"
     ]
    }
   ],
   "source": [
    "from sklearn.cluster import KMeans\n",
    "from yellowbrick.cluster.elbow import kelbow_visualizer\n",
    "kelbow_visualizer(KMeans(random_state=4), num_data, k=(2,10))"
   ]
  },
  {
   "cell_type": "markdown",
   "metadata": {},
   "source": [
    "# 5.2 Silhoutte Analysis"
   ]
  },
  {
   "cell_type": "code",
   "execution_count": 74,
   "metadata": {},
   "outputs": [
    {
     "data": {
      "image/png": "[encoded data removed]",
      "text/plain": [
       "<Figure size 1440x720 with 1 Axes>"
      ]
     },
     "metadata": {},
     "output_type": "display_data"
    },
    {
     "name": "stdout",
     "output_type": "stream",
     "text": [
      "time: 10.3 s\n"
     ]
    }
   ],
   "source": [
    "from sklearn.metrics import silhouette_score\n",
    "\n",
    "daftar = []\n",
    "k_list = []\n",
    "\n",
    "for k in range(2, 11):\n",
    "    kmeans = KMeans(n_clusters = k).fit(num_data)\n",
    "    labels = kmeans.labels_\n",
    "    daftar.append(silhouette_score(num_data, labels, metric = 'euclidean'))\n",
    "    k_list.append(k)\n",
    "\n",
    "plt.figure(figsize=(20,10))\n",
    "plt.plot(k_list,daftar)\n",
    "plt.show()"
   ]
  },
  {
   "cell_type": "code",
   "execution_count": 73,
   "metadata": {},
   "outputs": [
    {
     "data": {
      "image/png": "[encoded data removed]",
      "text/plain": [
       "<Figure size 576x396 with 1 Axes>"
      ]
     },
     "metadata": {},
     "output_type": "display_data"
    },
    {
     "data": {
      "image/png": "[encoded data removed]",
      "text/plain": [
       "<Figure size 576x396 with 1 Axes>"
      ]
     },
     "metadata": {},
     "output_type": "display_data"
    },
    {
     "data": {
      "image/png": "[encoded data removed]",
      "text/plain": [
       "<Figure size 576x396 with 1 Axes>"
      ]
     },
     "metadata": {},
     "output_type": "display_data"
    },
    {
     "name": "stdout",
     "output_type": "stream",
     "text": [
      "time: 4.76 s\n"
     ]
    }
   ],
   "source": [
    "from yellowbrick.cluster import silhouette_visualizer\n",
    "\n",
    "# Use the quick method and immediately show the figure\n",
    "\n",
    "for i in [3, 4, 5]:\n",
    "    silhouette_visualizer(KMeans(i, random_state=42), num_data, colors='yellowbrick')"
   ]
  },
  {
   "cell_type": "markdown",
   "metadata": {},
   "source": [
    "# 5.3 Create Final Cluster"
   ]
  },
  {
   "cell_type": "code",
   "execution_count": 88,
   "metadata": {},
   "outputs": [
    {
     "data": {
      "text/html": [
       "<div>\n",
       "<style scoped>\n",
       "    .dataframe tbody tr th:only-of-type {\n",
       "        vertical-align: middle;\n",
       "    }\n",
       "\n",
       "    .dataframe tbody tr th {\n",
       "        vertical-align: top;\n",
       "    }\n",
       "\n",
       "    .dataframe thead th {\n",
       "        text-align: right;\n",
       "    }\n",
       "</style>\n",
       "<table border=\"1\" class=\"dataframe\">\n",
       "  <thead>\n",
       "    <tr style=\"text-align: right;\">\n",
       "      <th></th>\n",
       "      <th>frequency</th>\n",
       "      <th>monetary</th>\n",
       "      <th>recency</th>\n",
       "      <th>prediction</th>\n",
       "    </tr>\n",
       "    <tr>\n",
       "      <th>member_id</th>\n",
       "      <th></th>\n",
       "      <th></th>\n",
       "      <th></th>\n",
       "      <th></th>\n",
       "    </tr>\n",
       "  </thead>\n",
       "  <tbody>\n",
       "    <tr>\n",
       "      <th>237398</th>\n",
       "      <td>16.0</td>\n",
       "      <td>535238.0</td>\n",
       "      <td>27.0</td>\n",
       "      <td>2</td>\n",
       "    </tr>\n",
       "    <tr>\n",
       "      <th>502009</th>\n",
       "      <td>14.0</td>\n",
       "      <td>2473473.0</td>\n",
       "      <td>5.0</td>\n",
       "      <td>3</td>\n",
       "    </tr>\n",
       "    <tr>\n",
       "      <th>11841</th>\n",
       "      <td>8.0</td>\n",
       "      <td>3114644.0</td>\n",
       "      <td>3.0</td>\n",
       "      <td>3</td>\n",
       "    </tr>\n",
       "    <tr>\n",
       "      <th>645389</th>\n",
       "      <td>6.0</td>\n",
       "      <td>818743.0</td>\n",
       "      <td>27.0</td>\n",
       "      <td>2</td>\n",
       "    </tr>\n",
       "    <tr>\n",
       "      <th>225416</th>\n",
       "      <td>10.0</td>\n",
       "      <td>2670700.0</td>\n",
       "      <td>1.0</td>\n",
       "      <td>3</td>\n",
       "    </tr>\n",
       "  </tbody>\n",
       "</table>\n",
       "</div>"
      ],
      "text/plain": [
       "           frequency   monetary  recency  prediction\n",
       "member_id                                           \n",
       "237398          16.0   535238.0     27.0           2\n",
       "502009          14.0  2473473.0      5.0           3\n",
       "11841            8.0  3114644.0      3.0           3\n",
       "645389           6.0   818743.0     27.0           2\n",
       "225416          10.0  2670700.0      1.0           3"
      ]
     },
     "execution_count": 88,
     "metadata": {},
     "output_type": "execute_result"
    },
    {
     "name": "stdout",
     "output_type": "stream",
     "text": [
      "time: 242 ms\n"
     ]
    }
   ],
   "source": [
    "km = KMeans(\n",
    "    n_clusters=4,\n",
    "    random_state=200\n",
    ")\n",
    "kmeans = km.fit(num_data)\n",
    "x_cap['prediction'] = kmeans.labels_\n",
    "x_cap.head()"
   ]
  },
  {
   "cell_type": "markdown",
   "metadata": {},
   "source": [
    "# 5.4 Visualize and Evaluate"
   ]
  },
  {
   "cell_type": "code",
   "execution_count": 106,
   "metadata": {},
   "outputs": [
    {
     "name": "stdout",
     "output_type": "stream",
     "text": [
      "time: 3.05 ms\n"
     ]
    }
   ],
   "source": [
    "def plot_clusters(rfm):\n",
    "\t\tfig = plt.figure(figsize=(18,12))\n",
    "\t\tdx = fig.add_subplot(111, projection='3d')\n",
    "\t\tcolors = ['green', 'blue', 'red', 'yellow']\n",
    "\t\t\n",
    "\t\tfor i in range(0,len(rfm['prediction'].unique())):\n",
    "\t\t\tdx.scatter(rfm[rfm.prediction == i].recency, \n",
    "\t\t\t\t\t   rfm[rfm.prediction == i].frequency, \n",
    "\t\t\t\t\t   rfm[rfm.prediction == i].monetary, \n",
    "\t\t\t\t\t   c = colors[i], \n",
    "\t\t\t\t\t   label = 'Cluster ' + str(i), \n",
    "\t\t\t\t\t   s=10, alpha=1.0)\n",
    "\t\tdx.set_xlabel('Recency', fontsize=14)\n",
    "\t\tdx.set_ylabel('Frequency', fontsize=14)\n",
    "\t\tdx.set_zlabel('Monetary', fontsize=14)\n",
    "\t\tdx.legend(fontsize=12)\n",
    "\t\tdx.grid(True)\n",
    "\t\t\n",
    "\t\t# Save Figure\n",
    "\t\t##plt.savefig(folder_result+'cluster_3d.png')\n",
    "\t\t\n",
    "\t\t# Show Figure\n",
    "\t\tplt.show()"
   ]
  },
  {
   "cell_type": "code",
   "execution_count": 107,
   "metadata": {},
   "outputs": [
    {
     "data": {
      "image/png": "[encoded data removed]",
      "text/plain": [
       "<Figure size 1296x864 with 1 Axes>"
      ]
     },
     "metadata": {},
     "output_type": "display_data"
    },
    {
     "name": "stdout",
     "output_type": "stream",
     "text": [
      "time: 866 ms\n"
     ]
    }
   ],
   "source": [
    "plot_clusters(x_cap)"
   ]
  }
 ],
 "metadata": {
  "kernelspec": {
   "display_name": "Python 3",
   "language": "python",
   "name": "python3"
  },
  "language_info": {
   "codemirror_mode": {
    "name": "ipython",
    "version": 3
   },
   "file_extension": ".py",
   "mimetype": "text/x-python",
   "name": "python",
   "nbconvert_exporter": "python",
   "pygments_lexer": "ipython3",
   "version": "3.6.8"
  }
 },
 "nbformat": 4,
 "nbformat_minor": 4
}
